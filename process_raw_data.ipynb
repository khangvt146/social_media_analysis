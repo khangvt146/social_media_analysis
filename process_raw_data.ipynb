{
 "cells": [
  {
   "cell_type": "code",
   "execution_count": 1,
   "metadata": {},
   "outputs": [
    {
     "name": "stderr",
     "output_type": "stream",
     "text": [
      "Setting default log level to \"WARN\".\n",
      "To adjust logging level use sc.setLogLevel(newLevel). For SparkR, use setLogLevel(newLevel).\n",
      "24/10/22 16:49:32 WARN NativeCodeLoader: Unable to load native-hadoop library for your platform... using builtin-java classes where applicable\n",
      "                                                                                \r"
     ]
    },
    {
     "name": "stdout",
     "output_type": "stream",
     "text": [
      "+-------------------+-------------+-----+------+---------+-------------------+----------+-------+----------+-----------+--------------------+---------+------------+--------------+-----------+--------------------+------+--------------------+--------------------+------+------------+--------------------+\n",
      "|             author|  created_utc|downs|    id|is_locked|is_original_content|is_over_18|is_self|is_spoiler|is_stickied|     link_flair_text|     name|num_comments|num_crossposts|num_reports|           permalink| score|            selftext|               title|   ups|upvote_ratio|                 url|\n",
      "+-------------------+-------------+-----+------+---------+-------------------+----------+-------+----------+-----------+--------------------+---------+------------+--------------+-----------+--------------------+------+--------------------+--------------------+------+------------+--------------------+\n",
      "|   ScienceModerator|1.521000374E9|    0|84aiy6|    false|              false|     false|   true|     false|      false|       Breaking News|t3_84aiy6|        3827|            15|       NULL|/r/science/commen...|199304|We regret to hear...|Physicist Stephen...|199304|        0.92|https://www.reddi...|\n",
      "|       Science_News|1.554901897E9|    0|bblu6v|    false|              false|     false|  false|     false|      false|             Physics|t3_bblu6v|        5509|            49|       NULL|/r/science/commen...|155291|                    |The first picture...|155291|        0.95|https://www.scien...|\n",
      "|         sugarlandd|1.532038912E9|    0|90adse|    false|              false|     false|  false|     false|      false|      Social Science|t3_90adse|        4743|            30|       NULL|/r/science/commen...|124695|                    |Since legalizing ...|124695|        0.89|https://www.googl...|\n",
      "|               nate|1.511108647E9|    0|7e1jo1|    false|              false|     false|   true|     false|      false|Subreddit Discussion|t3_7e1jo1|       10860|             7|       NULL|/r/science/commen...|124374|Science and techn...|Raising the taxes...|124374|        0.81|https://www.reddi...|\n",
      "|          chrisdh79|1.668005455E9|    0|yql2u5|    false|              false|     false|  false|     false|      false|          Psychology|t3_yql2u5|        3959|            38|       NULL|/r/science/commen...|123837|                    |Attractive female...|123837|        0.81|https://www.psypo...|\n",
      "|               mvea|1.516633319E9|    0|7s6a9z|    false|              false|     false|  false|     false|      false|          Psychology|t3_7s6a9z|        3787|            17|       NULL|/r/science/commen...|114559|                    |No evidence to su...|114559|        0.87|https://www.york....|\n",
      "|               mvea|1.607978957E9|    0|kd67rx|    false|              false|     false|  false|     false|      false|            Medicine|t3_kd67rx|        3505|            37|       NULL|/r/science/commen...|114428|                    |LED lights found ...|114428|         0.9|https://aftau.org...|\n",
      "|           sciposts|1.612211502E9|    0|lad9pe|     true|              false|     false|  false|     false|      false|          Psychology|t3_lad9pe|        3139|            47|       NULL|/r/science/commen...|113719|                    |Wealthy, successf...|113719|        0.78|https://journals....|\n",
      "|         AdamCannon|1.512055388E9|    0|7gn1ne|    false|              false|     false|  false|     false|      false|      Social Science|t3_7gn1ne|        4541|             5|       NULL|/r/science/commen...|110993|                    |New study finds t...|110993|        0.81|https://motherboa...|\n",
      "|      smurfyjenkins|1.614780956E9|    0|lwuvpc|    false|              false|     false|  false|     false|      false|      Social Science|t3_lwuvpc|        9481|            26|       NULL|/r/science/commen...|110664|                    |Casual sex among ...|110664|        0.89|https://doi.org/1...|\n",
      "|            SteRoPo|1.570448099E9|    0|dei73a|    false|              false|     false|  false|     false|      false|      Animal Science|t3_dei73a|        2015|            45|       NULL|/r/science/commen...|109325|                    |Scientists believ...|109325|        0.96|https://www.realc...|\n",
      "|      smurfyjenkins|1.606428305E9|    0|k1ofcu|    false|              false|     false|  false|     false|      false|      Social Science|t3_k1ofcu|        1811|            26|       NULL|/r/science/commen...|106108|                    |In the US, states...|106108|        0.91|https://www.scien...|\n",
      "|               mvea|1.611228462E9|    0|l1work|    false|              false|     false|  false|     false|      false|              Cancer|t3_l1work|        1136|            33|       NULL|/r/science/commen...|104793|                    |Korean scientists...|104793|        0.93|https://www.eurek...|\n",
      "|               mvea|1.566128489E9|    0|cs072c|    false|              false|     false|  false|     false|      false|          Psychology|t3_cs072c|        3995|            19|       NULL|/r/science/commen...|104595|                    |Having kids makes...|104595|         0.9|https://www.newsc...|\n",
      "|               mvea|1.619178214E9|    0|mwtdiq|    false|              false|     false|  false|     false|      false|        Neuroscience|t3_mwtdiq|        3611|            42|       NULL|/r/science/commen...|104443|                    |Scientists find n...|104443|        0.91|https://academict...|\n",
      "|               mvea|1.553774691E9|    0|b6hy7e|    false|              false|     false|  false|     false|      false|            Medicine|t3_b6hy7e|        3214|            43|       NULL|/r/science/commen...|101694|                    |Woman with ‘mutan...|101694|        0.94|https://www.indep...|\n",
      "|inspiration_capsule|1.590228581E9|    0|gp2hdt|    false|              false|     false|  false|     false|      false|            Medicine|t3_gp2hdt|        2360|            26|       NULL|/r/science/commen...| 97581|                    |The first human t...| 97581|        0.92|https://www.thela...|\n",
      "|               mvea|1.572778018E9|    0|dqysmm|    false|              false|     false|  false|     false|      false|           Chemistry|t3_dqysmm|        1621|            26|       NULL|/r/science/commen...| 97232|                    |Scientists replac...| 97232|        0.95|https://newatlas....|\n",
      "|        gengarvibes|1.581772506E9|    0|f4998k|    false|              false|     false|  false|     false|      false|              Health|t3_f4998k|        5376|            62|       NULL|/r/science/commen...| 94798|                    |A new study in Th...| 94798|        0.83|https://www.scien...|\n",
      "|     pipsdontsqueak|1.551737423E9|    0|axd4l4|    false|              false|     false|  false|     false|      false|        Epidemiology|t3_axd4l4|        2537|            27|       NULL|/r/science/commen...| 94086|                    |MMR vaccine does ...| 94086|        0.84|https://www.cnn.c...|\n",
      "+-------------------+-------------+-----+------+---------+-------------------+----------+-------+----------+-----------+--------------------+---------+------------+--------------+-----------+--------------------+------+--------------------+--------------------+------+------------+--------------------+\n",
      "only showing top 20 rows\n",
      "\n",
      "Total crawl posts:  7816\n"
     ]
    }
   ],
   "source": [
    "# Create Spark Job\n",
    "import os\n",
    "\n",
    "from pyspark import SparkConf\n",
    "from pyspark.sql import SparkSession, DataFrame\n",
    "\n",
    "conf = (\n",
    "    SparkConf()\n",
    "    .setAppName(\"Social_Media_Application\")\n",
    "    .setMaster(\"spark://172.29.15.3:7077\")\n",
    "    .set(\"spark.executor.instances\", \"4\")\n",
    "    .set(\"spark.executor.cores\", \"4\")\n",
    "    .set(\"spark.executor.memory\", \"16g\")\n",
    "    .set(\"spark.cores.max\", \"8\")\n",
    ")\n",
    "\n",
    "spark = SparkSession.builder.config(conf=conf).getOrCreate()\n",
    "sc = spark.sparkContext\n",
    "\n",
    "abs_folder_path = os.path.abspath(\"./data/crawl_data\")\n",
    "\n",
    "df = spark.read.option(\"multiLine\", True).json(f\"file://{abs_folder_path}\")\n",
    "df.show()\n",
    "print(\"Total crawl posts: \", df.count())"
   ]
  },
  {
   "cell_type": "code",
   "execution_count": 2,
   "metadata": {},
   "outputs": [
    {
     "name": "stdout",
     "output_type": "stream",
     "text": [
      "\\u0022\\u0027\\u00ab\\u00bb\\u2018\\u2019\\u201a\\u201b\\u201c\\u201d\\u201e\\u201f\\u2039\\u203a\\u300c\\u300d\\u300e\\u300f\\u301d\\u301e\\u301f\\ufe41\\ufe42\\ufe43\\ufe44\\uff02\\uff07\\uff62\\uff63\n"
     ]
    }
   ],
   "source": [
    "QUOTES = (\n",
    "    r\"\\u0022\"  # quotation mark (\")\n",
    "    r\"\\u0027\"  # apostrophe (')\n",
    "    r\"\\u00ab\"  # left-pointing double-angle quotation mark\n",
    "    r\"\\u00bb\"  # right-pointing double-angle quotation mark\n",
    "    r\"\\u2018\"  # left single quotation mark\n",
    "    r\"\\u2019\"  # right single quotation mark\n",
    "    r\"\\u201a\"  # single low-9 quotation mark\n",
    "    r\"\\u201b\"  # single high-reversed-9 quotation mark\n",
    "    r\"\\u201c\"  # left double quotation mark\n",
    "    r\"\\u201d\"  # right double quotation mark\n",
    "    r\"\\u201e\"  # double low-9 quotation mark\n",
    "    r\"\\u201f\"  # double high-reversed-9 quotation mark\n",
    "    r\"\\u2039\"  # single left-pointing angle quotation mark\n",
    "    r\"\\u203a\"  # single right-pointing angle quotation mark\n",
    "    r\"\\u300c\"  # left corner bracket\n",
    "    r\"\\u300d\"  # right corner bracket\n",
    "    r\"\\u300e\"  # left white corner bracket\n",
    "    r\"\\u300f\"  # right white corner bracket\n",
    "    r\"\\u301d\"  # reversed double prime quotation mark\n",
    "    r\"\\u301e\"  # double prime quotation mark\n",
    "    r\"\\u301f\"  # low double prime quotation mark\n",
    "    r\"\\ufe41\"  # presentation form for vertical left corner bracket\n",
    "    r\"\\ufe42\"  # presentation form for vertical right corner bracket\n",
    "    r\"\\ufe43\"  # presentation form for vertical left corner white bracket\n",
    "    r\"\\ufe44\"  # presentation form for vertical right corner white bracket\n",
    "    r\"\\uff02\"  # fullwidth quotation mark\n",
    "    r\"\\uff07\"  # fullwidth apostrophe\n",
    "    r\"\\uff62\"  # halfwidth left corner bracket\n",
    "    r\"\\uff63\"  # halfwidth right corner bracket\n",
    ")\n",
    "QUOTES_PATTERN = r\"\".join(QUOTES)\n",
    "print(QUOTES_PATTERN)"
   ]
  },
  {
   "cell_type": "code",
   "execution_count": 3,
   "metadata": {},
   "outputs": [
    {
     "name": "stdout",
     "output_type": "stream",
     "text": [
      "Total Posts after process:  5532\n",
      "+----------------------------------------------------------------------------------------------------------------------------------------------------------------------------------------------------------------------------------------------------+--------+----------------+\n",
      "|title                                                                                                                                                                                                                                               |selftext|link_flair_text |\n",
      "+----------------------------------------------------------------------------------------------------------------------------------------------------------------------------------------------------------------------------------------------------+--------+----------------+\n",
      "|India set an ‘incredibly important precedent’ by banning TikTok, FCC Commissioner says, 'don't see a path forward for anything other than a blanket ban\" in the US                                                                                  |        |Social Media    |\n",
      "|Remote Work Is Poised to Devastate America’s Cities In order to survive, cities must let developers convert office buildings into housing.                                                                                                          |        |Society         |\n",
      "|Remote Work Is Poised to Devastate America’s Cities In order to survive, cities must let developers convert office buildings into housing.                                                                                                          |        |Discussion      |\n",
      "|Adults who stay well-hydrated appear to be healthier, develop fewer chronic conditions, such as heart and lung disease, and live longer than those who may not get sufficient fluids, study finds                                                   |        |Health          |\n",
      "|Stanford Scientists Warn That Civilization as We Know It Is Ending                                                                                                                                                                                  |        |Environment     |\n",
      "|Experts Worried Elderly Billionaires Will Become Immortal, Compounding Wealth Forever                                                                                                                                                               |        |Society         |\n",
      "|A Professional Artist Spent 100 Hours Working On This Book Cover Image, Only To Be Accused Of Using AI                                                                                                                                              |        |Society         |\n",
      "|Study: 63% of severe alcoholics exhibit significant cognitive improvements within 18 days of abstinence                                                                                                                                             |        |Psychology      |\n",
      "|Vegan milk now has more than 16% market share in the US, with Oat Milk growing 50% YoY                                                                                                                                                              |        |Environment     |\n",
      "|As more automakers put factory features behind paywall, we’re racing towards a bleak future                                                                                                                                                         |        |Business        |\n",
      "|Abortion associated with lower psychological distress compared to both adoption and unwanted birth, study finds                                                                                                                                     |        |Health          |\n",
      "|Inventor of the world wide web wants us to reclaim our data from tech giants                                                                                                                                                                        |        |Privacy/Security|\n",
      "|Moderna CEO: 400% price hike on COVID vaccine “consistent with the value”                                                                                                                                                                           |        |Biotechnology   |\n",
      "|Working fewer hours is associated with higher life satisfaction, according to new research                                                                                                                                                          |        |Psychology      |\n",
      "|Parler owner laid off 75% of staff and has only 20 employees left, report says                                                                                                                                                                      |        |Social Media    |\n",
      "|The falling birth rate in the U.S. is not due to less desire to have children -- young Americans haven’t changed the number of children they intend to have in decades, study finds. Young people’s concern about future may be delaying parenthood.|        |Social Science  |\n",
      "|Apple CEO Tim Cook to take more than 40% pay cut                                                                                                                                                                                                    |        |Business        |\n",
      "|The falling birth rate in the U.S. is not due to less desire to have children — Young Americans haven’t changed the number of children they intend to have in decades, study finds. Young people’s concern about future may be delaying parenthood. |        |Society         |\n",
      "|Wyoming wants to phase out sales of EVs by 2035 to “ensure the stability” of the oil & gas industry                                                                                                                                                 |        |Politics        |\n",
      "|Hertz discovered that electric vehicles are between 50-60% cheaper to maintain than gasoline-powered cars                                                                                                                                           |        |Energy          |\n",
      "+----------------------------------------------------------------------------------------------------------------------------------------------------------------------------------------------------------------------------------------------------+--------+----------------+\n",
      "only showing top 20 rows\n",
      "\n",
      "None\n"
     ]
    }
   ],
   "source": [
    "from pyspark.sql.functions import from_unixtime, regexp_replace, col\n",
    "\n",
    "# Process Data\n",
    "process_df = df.dropDuplicates([\"id\"])\n",
    "process_df = process_df.withColumn(\n",
    "    \"created_utc\", from_unixtime(\"created_utc\", \"yyyy-MM-dd HH:mm:ss\")\n",
    ")\n",
    "\n",
    "# Drop columns that have all Null data\n",
    "not_null_cols = [\n",
    "    col\n",
    "    for col in process_df.columns\n",
    "    if process_df.select(col).dropna(how=\"all\").count() > 0\n",
    "]\n",
    "process_df = process_df.select(not_null_cols)\n",
    "\n",
    "# Remove Quotation Mark value\n",
    "# process_df = process_df.withColumn(\n",
    "#     \"title\", regexp_replace(col(\"title\"), QUOTES_PATTERN, \"\")\n",
    "# )\n",
    "# process_df = process_df.withColumn(\n",
    "#     \"selftext\", regexp_replace(col(\"selftext\"), QUOTES_PATTERN, \"\")\n",
    "# )\n",
    "\n",
    "print(\"Total Posts after process: \", process_df.count())\n",
    "print(process_df.select([\"title\", \"selftext\", \"link_flair_text\"]).show(truncate=False))"
   ]
  },
  {
   "cell_type": "code",
   "execution_count": 12,
   "metadata": {},
   "outputs": [],
   "source": [
    "import pickle\n",
    "\n",
    "pandas_df = process_df.toPandas()\n",
    "\n",
    "with open(\"data/processed_data/data.pkl\", \"wb\") as file:\n",
    "    pickle.dump(pandas_df, file)\n",
    "\n",
    "# Write all available labels\n",
    "label = (\n",
    "    process_df.select(\"link_flair_text\")\n",
    "    .dropDuplicates()\n",
    "    .orderBy(\"link_flair_text\", ascending=True)\n",
    ")\n",
    "label.coalesce(1).write.mode(\"overwrite\").text(\n",
    "    \"file:///home/hduser/Khang/social_media/data/processed_data/label.txt\"\n",
    ")"
   ]
  },
  {
   "cell_type": "code",
   "execution_count": 55,
   "metadata": {},
   "outputs": [],
   "source": [
    "spark.stop()"
   ]
  },
  {
   "cell_type": "code",
   "execution_count": 53,
   "metadata": {},
   "outputs": [
    {
     "name": "stdout",
     "output_type": "stream",
     "text": [
      "+-------------------------------------------------------------------------------------------------------------------------------------------------------------------------------------------------------------------------------------------------------------+\n",
      "|title                                                                                                                                                                                                                                                        |\n",
      "+-------------------------------------------------------------------------------------------------------------------------------------------------------------------------------------------------------------------------------------------------------------+\n",
      "|Human scientists are still better than AI ones – for now | A simulator for the process of scientific discovery shows that AI models still fall short of human scientists and engineers in coming up with hypotheses and carrying out experiments on their own|\n",
      "|Human scientists are still better than AI ones – for now | A simulator for the process of scientific discovery shows that AI models still fall short of human scientists and engineers in coming up with hypotheses and carrying out experiments on their own|\n",
      "+-------------------------------------------------------------------------------------------------------------------------------------------------------------------------------------------------------------------------------------------------------------+\n",
      "\n"
     ]
    }
   ],
   "source": [
    "df.where(df.id == \"1g7mj3n\").select(\"title\").show(truncate=False)"
   ]
  }
 ],
 "metadata": {
  "kernelspec": {
   "display_name": "pyspark",
   "language": "python",
   "name": "python3"
  },
  "language_info": {
   "codemirror_mode": {
    "name": "ipython",
    "version": 3
   },
   "file_extension": ".py",
   "mimetype": "text/x-python",
   "name": "python",
   "nbconvert_exporter": "python",
   "pygments_lexer": "ipython3",
   "version": "3.8.20"
  }
 },
 "nbformat": 4,
 "nbformat_minor": 2
}
